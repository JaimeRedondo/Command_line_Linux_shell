{
  "nbformat": 4,
  "nbformat_minor": 0,
  "metadata": {
    "colab": {
      "name": "Ejercicio_Laura.ipynb",
      "provenance": [],
      "collapsed_sections": [],
      "authorship_tag": "ABX9TyNCNCCUcjP4S9z6qieLAOXv",
      "include_colab_link": true
    },
    "kernelspec": {
      "name": "python3",
      "display_name": "Python 3"
    },
    "language_info": {
      "name": "python"
    }
  },
  "cells": [
    {
      "cell_type": "markdown",
      "metadata": {
        "id": "view-in-github",
        "colab_type": "text"
      },
      "source": [
        "<a href=\"https://colab.research.google.com/github/JaimeRedondo/Command_line_Linux_shell/blob/master/Ejercicio_Laura.ipynb\" target=\"_parent\"><img src=\"https://colab.research.google.com/assets/colab-badge.svg\" alt=\"Open In Colab\"/></a>"
      ]
    },
    {
      "cell_type": "code",
      "metadata": {
        "colab": {
          "base_uri": "https://localhost:8080/"
        },
        "id": "HobBWtnRDi5D",
        "outputId": "98530421-4f1f-4d19-cb22-466208267bb5"
      },
      "source": [
        "## Sacar con de 2 matrices, por un lado la suma de los números pares de las filas y por otro lado el de las columnas en 2 vectores\n",
        "\n",
        "import numpy as np\n",
        "import pandas as pd\n",
        "\n",
        "matrix = np.matrix([[2,3,4,6,1],[5,4,-2,3,0],[4,-1,5,4,-6],[4,2,4,5,8],[3,0,-3,-3,6]])\n",
        "matrix\n"
      ],
      "execution_count": null,
      "outputs": [
        {
          "output_type": "execute_result",
          "data": {
            "text/plain": [
              "matrix([[ 2,  3,  4,  6,  1],\n",
              "        [ 5,  4, -2,  3,  0],\n",
              "        [ 4, -1,  5,  4, -6],\n",
              "        [ 4,  2,  4,  5,  8],\n",
              "        [ 3,  0, -3, -3,  6]])"
            ]
          },
          "metadata": {},
          "execution_count": 92
        }
      ]
    },
    {
      "cell_type": "code",
      "metadata": {
        "id": "XzXlo6qFEc1u"
      },
      "source": [
        "def sumas_pares_filas_e_impares_columnas(matrix):\n",
        "  if matrix.shape[0] != matrix.shape[1]:\n",
        "    mensaje = \"No te cueles que esta no es cuadrada\"\n",
        "  else:\n",
        "    impares_columnas = []\n",
        "    for row in range(matrix.shape[0]):\n",
        "      contador = 0\n",
        "      for column in range(matrix.shape[1]):\n",
        "        number = np.transpose(matrix)[row,column]\n",
        "        if number%2 != 0:\n",
        "          contador = contador + number\n",
        "      impares_columnas.append(contador)\n",
        "\n",
        "    pares_filas = []\n",
        "    for row in range(matrix.shape[0]):\n",
        "      contador = 0\n",
        "      for column in range(matrix.shape[1]):\n",
        "        number = matrix[row,column]\n",
        "        if number%2 == 0:\n",
        "          contador = contador + number\n",
        "      pares_filas.append(contador)\n",
        "  \n",
        "    pares_filas = np.array(pares_filas)\n",
        "    impares_columnas = np.array(impares_columnas)\n",
        "  \n",
        "    comparison = pares_filas >= impares_columnas\n",
        "\n",
        "    if sum(comparison) < len(pares_filas):\n",
        "      mensaje = \"La función no es buenrollista\"\n",
        "    else:\n",
        "      mensaje = \"La función es buenrollista\"\n",
        "      \n",
        "  return mensaje"
      ],
      "execution_count": null,
      "outputs": []
    },
    {
      "cell_type": "code",
      "metadata": {
        "id": "BaoqszvyUc87"
      },
      "source": [
        "def sumas_pares_filas_e_impares_columnas_pringaos(matrix):\n",
        "  if matrix.shape[0] != matrix.shape[1]:\n",
        "    mensaje = \"No te cueles que esta no es cuadrada\"\n",
        "  else:\n",
        "    impares_columnas = []\n",
        "    for row in range(matrix.shape[0]):\n",
        "      contador = 0\n",
        "      for column in range(matrix.shape[1]):\n",
        "        number = np.transpose(matrix)[row,column]\n",
        "        if number%2 != 0:\n",
        "          contador = contador + number\n",
        "      impares_columnas.append(contador)\n",
        "\n",
        "    pares_filas = []\n",
        "    for row in range(matrix.shape[0]):\n",
        "      contador = 0\n",
        "      for column in range(matrix.shape[1]):\n",
        "        number = matrix[row,column]\n",
        "        if number%2 == 0:\n",
        "          contador = contador + number\n",
        "      pares_filas.append(contador)\n",
        "\n",
        "    contador = 0\n",
        "    for i in range(len(pares_filas)):\n",
        "      if pares_filas[i] >= impares_columnas[i]:\n",
        "        contador = contador + 1\n",
        "    \n",
        "    if contador < len(pares_filas):\n",
        "      mensaje = \"La función no es buenrollista\"\n",
        "    else:\n",
        "      mensaje = \"La función es buenrollista\"\n",
        "      \n",
        "  return mensaje"
      ],
      "execution_count": null,
      "outputs": []
    },
    {
      "cell_type": "code",
      "metadata": {
        "colab": {
          "base_uri": "https://localhost:8080/",
          "height": 35
        },
        "id": "pRGX2sjLHq9w",
        "outputId": "563c2705-53f9-47a1-8d14-9e73051aab4b"
      },
      "source": [
        "sumas_pares_filas_e_impares_columnas(matrix)"
      ],
      "execution_count": null,
      "outputs": [
        {
          "output_type": "execute_result",
          "data": {
            "application/vnd.google.colaboratory.intrinsic+json": {
              "type": "string"
            },
            "text/plain": [
              "'La función es buenrollista'"
            ]
          },
          "metadata": {},
          "execution_count": 98
        }
      ]
    }
  ]
}